{
  "nbformat": 4,
  "nbformat_minor": 0,
  "metadata": {
    "colab": {
      "provenance": [],
      "authorship_tag": "ABX9TyNHR+GLiD4NG6J5Hfa/1ejy",
      "include_colab_link": true
    },
    "kernelspec": {
      "name": "python3",
      "display_name": "Python 3"
    },
    "language_info": {
      "name": "python"
    }
  },
  "cells": [
    {
      "cell_type": "markdown",
      "metadata": {
        "id": "view-in-github",
        "colab_type": "text"
      },
      "source": [
        "<a href=\"https://colab.research.google.com/github/Sanjana-213/Neural-Network/blob/main/700755482_ICP1.ipynb\" target=\"_parent\"><img src=\"https://colab.research.google.com/assets/colab-badge.svg\" alt=\"Open In Colab\"/></a>"
      ]
    },
    {
      "cell_type": "code",
      "source": [
        "input_string = list(input(\"Enter the string 'Python': \"))\n",
        "if input_string != list(\"Python\"):\n",
        "    print(\"Enter the string exactly as'Python'\")\n",
        "else:\n",
        "    del input_string[4]\n",
        "    del input_string[2]\n",
        "    input_string.reverse()\n",
        "    result_string = ''.join(input_string)\n",
        "    print(\"The resultant reversed string is:\", result_string)"
      ],
      "metadata": {
        "colab": {
          "base_uri": "https://localhost:8080/"
        },
        "id": "2d0EstOIOuZy",
        "outputId": "1d8241e4-b13f-4406-beef-446f0f3b81d6"
      },
      "execution_count": null,
      "outputs": [
        {
          "output_type": "stream",
          "name": "stdout",
          "text": [
            "Enter the string 'Python': Python\n",
            "The resultant reversed string is: nhyP\n"
          ]
        }
      ]
    },
    {
      "cell_type": "code",
      "source": [
        "input_sentence = input(\"Enter a sentence: \")\n",
        "modified_sentence = input_sentence.replace('python', 'pythons')\n",
        "print(\"Modified sentence:\", modified_sentence)"
      ],
      "metadata": {
        "colab": {
          "base_uri": "https://localhost:8080/"
        },
        "id": "eQAn8diPOzj7",
        "outputId": "9980df40-70d7-4678-c1e9-d330fdebd1a0"
      },
      "execution_count": null,
      "outputs": [
        {
          "output_type": "stream",
          "name": "stdout",
          "text": [
            "Enter a sentence: I love playing with python\n",
            "Modified sentence: I love playing with pythons\n"
          ]
        }
      ]
    },
    {
      "cell_type": "code",
      "source": [
        "cl_scr = int(input(\"Enter your class score: \"))\n",
        "if 90 <= cl_scr <= 100:\n",
        "\n",
        "    grade = 'A'\n",
        "elif 80 <= cl_scr < 90:\n",
        "    grade = 'B'\n",
        "elif 70 <= cl_scr < 80:\n",
        "    grade = 'C'\n",
        "elif 60 <= cl_scr < 70:\n",
        "    grade = 'D'\n",
        "elif 50 <= cl_scr < 60:\n",
        "    grade = 'F'\n",
        "else:\n",
        "    grade = 'Invalid score'\n",
        "print(\"The grade is:\", grade)"
      ],
      "metadata": {
        "colab": {
          "base_uri": "https://localhost:8080/"
        },
        "id": "cfXzAsbPPNBo",
        "outputId": "a5b337a7-a2a8-4c15-d422-d2f44e64ce3a"
      },
      "execution_count": null,
      "outputs": [
        {
          "output_type": "stream",
          "name": "stdout",
          "text": [
            "Enter your class score: 75\n",
            "The grade is: C\n"
          ]
        }
      ]
    }
  ]
}